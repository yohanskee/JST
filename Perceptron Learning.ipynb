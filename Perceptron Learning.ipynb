{
 "cells": [
  {
   "cell_type": "code",
   "execution_count": 2,
   "metadata": {
    "collapsed": false
   },
   "outputs": [
    {
     "name": "stdout",
     "output_type": "stream",
     "text": [
      "Initial weight:  [ 0.75118099  0.03605301  0.59858602]\n",
      "\n",
      "--------------- iteration  0  ---------------\n",
      "New weight :  [ 0.65118099  0.03605301  0.59858602]\n",
      "New weight :  [ 0.55118099  0.03605301  0.49858602]\n",
      "New weight :  [ 0.45118099 -0.06394699  0.49858602]\n",
      "No weight adjustment\n",
      "\n",
      "--------------- iteration  1  ---------------\n",
      "New weight :  [ 0.35118099 -0.06394699  0.49858602]\n",
      "New weight :  [ 0.25118099 -0.06394699  0.39858602]\n",
      "No weight adjustment\n",
      "No weight adjustment\n",
      "\n",
      "--------------- iteration  2  ---------------\n",
      "New weight :  [ 0.15118099 -0.06394699  0.39858602]\n",
      "New weight :  [ 0.05118099 -0.06394699  0.29858602]\n",
      "No weight adjustment\n",
      "No weight adjustment\n",
      "\n",
      "--------------- iteration  3  ---------------\n",
      "No weight adjustment\n",
      "New weight :  [-0.04881901 -0.06394699  0.19858602]\n",
      "No weight adjustment\n",
      "New weight :  [ 0.05118099  0.03605301  0.29858602]\n",
      "\n",
      "--------------- iteration  4  ---------------\n",
      "No weight adjustment\n",
      "New weight :  [-0.04881901  0.03605301  0.19858602]\n",
      "No weight adjustment\n",
      "New weight :  [ 0.05118099  0.13605301  0.29858602]\n",
      "\n",
      "--------------- iteration  5  ---------------\n",
      "No weight adjustment\n",
      "New weight :  [-0.04881901  0.13605301  0.19858602]\n",
      "No weight adjustment\n",
      "No weight adjustment\n",
      "\n",
      "--------------- iteration  6  ---------------\n",
      "No weight adjustment\n",
      "No weight adjustment\n",
      "No weight adjustment\n",
      "No weight adjustment\n",
      "\n",
      "Final weight found in  7  iteration\n",
      "Final weight :  [-0.04881901  0.13605301  0.19858602]\n"
     ]
    }
   ],
   "source": [
    "# AND\n",
    "import numpy as np\n",
    "\n",
    "x = np.array([[1,0,0], [1,0,1], [1,1,0], [1,1,1]])\n",
    "r = np.array([0,0,0,1])\n",
    "w = np.random.rand(3)\n",
    "\n",
    "print(\"Initial weight: \", w)\n",
    "\n",
    "coAlpha = 0.1\n",
    "wrong = True\n",
    "\n",
    "counter = 0\n",
    "\n",
    "while(wrong):\n",
    "    print(\"\\n--------------- iteration \", counter, \" ---------------\")\n",
    "    counter += 1\n",
    "    wrong = False\n",
    "    for i in range(0, 4):\n",
    "        resp = ((w[0]*x[i][0] + w[1]*x[i][1] + w[2]*x[i][2]) >= 0.2)\n",
    "        diff = r[i] - resp\n",
    "        if(diff != 0):\n",
    "            wrong = True\n",
    "            w[0] = w[0] + diff * coAlpha * x[i][0]\n",
    "            w[1] = w[1] + diff * coAlpha * x[i][1]\n",
    "            w[2] = w[2] + diff * coAlpha * x[i][2]\n",
    "            print(\"New weight : \", w)\n",
    "        else:\n",
    "            print(\"No weight adjustment\")\n",
    "            \n",
    "print(\"\\nFinal weight found in \", counter, \" iteration\\nFinal weight : \", w)"
   ]
  },
  {
   "cell_type": "code",
   "execution_count": null,
   "metadata": {
    "collapsed": false
   },
   "outputs": [],
   "source": [
    "# OR\n",
    "import numpy as np\n",
    "\n",
    "x = np.array([[0,0], [0,1], [1,0], [1,1]])\n",
    "r = np.array([0,0,0,1])\n",
    "#w = np.random.rand(3)\n",
    "w = [[0.3, -0.1], [0.3, -0.1], [0.3, -0.1], [0.3, -0.1]]\n",
    "\n",
    "print(\"Initial weight: \", w)\n",
    "\n",
    "coAlpha = 0.1\n",
    "wrong = True\n",
    "\n",
    "counter = 0\n",
    "\n",
    "while(wrong):\n",
    "    print(\"\\n--------------- iteration \", counter, \" ---------------\")\n",
    "    counter += 1\n",
    "    wrong = False\n",
    "    for i in range(0, 4):\n",
    "        resp = ((w[i][0]*x[i][0] + w[i][1]*x[i][1]) >= 0.2)\n",
    "        diff = r[i] - resp\n",
    "        if(diff != 0):\n",
    "            wrong = True\n",
    "            w[i][0] = w[i][0] + diff * coAlpha * x[i][0]\n",
    "            w[i][1] = w[i][1] + diff * coAlpha * x[i][1]\n",
    "            print(w[i], \" : \", (w[i][0]*x[i][0] + w[i][1]*x[i][1]), \" : \", diff, \" : New weight\")\n",
    "        else:\n",
    "            print(w[i], \" : \", (w[i][0]*x[i][0] + w[i][1]*x[i][1]), \" : \", diff, \" : No weight adjustment\")\n",
    "            \n",
    "print(\"\\nFinal weight found in \", counter, \" iteration\\nFinal weight : \", w)"
   ]
  },
  {
   "cell_type": "markdown",
   "metadata": {},
   "source": []
  },
  {
   "cell_type": "code",
   "execution_count": null,
   "metadata": {
    "collapsed": true
   },
   "outputs": [],
   "source": []
  }
 ],
 "metadata": {
  "kernelspec": {
   "display_name": "Python 3",
   "language": "python",
   "name": "python3"
  },
  "language_info": {
   "codemirror_mode": {
    "name": "ipython",
    "version": 3
   },
   "file_extension": ".py",
   "mimetype": "text/x-python",
   "name": "python",
   "nbconvert_exporter": "python",
   "pygments_lexer": "ipython3",
   "version": "3.4.0"
  }
 },
 "nbformat": 4,
 "nbformat_minor": 2
}
