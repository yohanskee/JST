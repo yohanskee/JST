{
 "cells": [
  {
   "cell_type": "code",
   "execution_count": 1,
   "metadata": {
    "collapsed": false,
    "scrolled": true
   },
   "outputs": [
    {
     "name": "stdout",
     "output_type": "stream",
     "text": [
      "Initial weight:  [0, 0, 0, 0]\n",
      "[1 1 1] :  1 :  0 :  [0.10000000000000001, 0.10000000000000001, 0.10000000000000001]   0.1 \n",
      "\n",
      "[ 1  1 -1] :  -1 :  0.2 :  [-0.01999999999999999, 0.22, -0.01999999999999999]   -0.02 \n",
      "\n",
      "[ 1 -1  1] :  1 :  0.2 :  [-0.10000000000000001, 0.30000000000000004, 0.060000000000000026]   0.06 \n",
      "\n",
      "[ 1 -1 -1] :  -1 :  -0.08 :  [-0.0079999999999999932, 0.39200000000000007, -0.031999999999999987]   -0.032 \n",
      "\n",
      "[-1  1  1] :  1 :  0.384 :  [0.053599999999999995, 0.45360000000000006, 0.029600000000000001]   0.0296 \n",
      "\n",
      "[-1  1 -1] :  -1 :  -0.2768 :  [-0.018719999999999987, 0.52592000000000005, -0.04271999999999998]   -0.04272 \n",
      "\n",
      "[-1 -1  1] :  1 :  0.5232 :  [-0.066399999999999987, 0.57360000000000011, 0.0049600000000000199]   0.00496 \n",
      "\n",
      "[-1 -1 -1] :  1 :  -0.43328 :  [-0.209728, 0.4302720000000001, 0.14828800000000003]   0.148288 \n",
      "\n",
      "\n",
      "Final weight found in  1  iteration\n",
      "Final weight :  [-0.212288, -0.209728, 0.4302720000000001, 0.14828800000000003]\n"
     ]
    }
   ],
   "source": [
    "# AND\n",
    "import numpy as np\n",
    "import math\n",
    "\n",
    "x = np.array([[1,1,1], [1,1,-1], [1,-1,1], [1,-1,-1], [-1,1,1], [-1,1,-1], [-1,-1,1], [-1,-1,-1]])\n",
    "r = np.array([1,-1, 1, -1, 1, -1, 1, 1])\n",
    "w = [0,0,0,0]\n",
    "b = 0\n",
    "coAlpha = 0.1\n",
    "wrong = True\n",
    "\n",
    "print(\"Initial weight: \", w)\n",
    "\n",
    "counter = 0\n",
    "\n",
    "while(wrong):\n",
    "    counter += 1\n",
    "    wrong = True\n",
    "    diff = [0,0,0,0]\n",
    "    for i in range(len(x)):\n",
    "        y_in = w[3] + (w[0]*x[i][0] + w[1]*x[i][1] + w[2]*x[i][2])\n",
    "        update = coAlpha * (r[i] - y_in)\n",
    "        b = b + update\n",
    "        w[:3] += coAlpha * (r[i] - y_in) * x[i]\n",
    "        w[3] += update\n",
    "        print(x[i], \": \", r[i], \": \", y_in, \": \", w[1:], \" \", w[3], \"\\n\")\n",
    "    \n",
    "    if(counter == 1):\n",
    "        wrong = False\n",
    "        \n",
    "print(\"\\nFinal weight found in \", counter, \" iteration\\nFinal weight : \", w)"
   ]
  },
  {
   "cell_type": "code",
   "execution_count": null,
   "metadata": {
    "collapsed": true
   },
   "outputs": [],
   "source": []
  },
  {
   "cell_type": "code",
   "execution_count": null,
   "metadata": {
    "collapsed": true
   },
   "outputs": [],
   "source": []
  },
  {
   "cell_type": "code",
   "execution_count": null,
   "metadata": {
    "collapsed": true
   },
   "outputs": [],
   "source": []
  }
 ],
 "metadata": {
  "kernelspec": {
   "display_name": "Python 3",
   "language": "python",
   "name": "python3"
  },
  "language_info": {
   "codemirror_mode": {
    "name": "ipython",
    "version": 3
   },
   "file_extension": ".py",
   "mimetype": "text/x-python",
   "name": "python",
   "nbconvert_exporter": "python",
   "pygments_lexer": "ipython3",
   "version": "3.4.0"
  }
 },
 "nbformat": 4,
 "nbformat_minor": 2
}
