{
 "cells": [
  {
   "cell_type": "code",
   "execution_count": 21,
   "metadata": {
    "collapsed": false
   },
   "outputs": [
    {
     "name": "stdout",
     "output_type": "stream",
     "text": [
      "[ 0.34  0.    0.1   0.58  0.  ]\n",
      "[ 0.204  0.     0.     0.492  0.   ]\n",
      "[ 0.1056  0.      0.      0.4512  0.    ]\n",
      "[ 0.01536  0.       0.       0.43008  0.     ]\n",
      "[ 0.        0.        0.        0.427008  0.      ]\n"
     ]
    }
   ],
   "source": [
    "import numpy as np\n",
    "\n",
    "a = np.array([.7, .3, .5, .9, .1])\n",
    "e = np.full(a.shape, -0.2)\n",
    "\n",
    "while(True):\n",
    "    a_old = np.copy(a)\n",
    "    for i in range(0, len(a)):\n",
    "        mask = np.full(a_old.shape, True, dtype=bool)\n",
    "        mask[i] = False\n",
    "        a[i] = max(0, a_old[i] + np.sum(np.multiply(e[mask], a_old[mask])))\n",
    "    print(a)\n",
    "\n",
    "    out = a > 0\n",
    "    res = a[out]\n",
    "    if(len(res) == 1):\n",
    "        break"
   ]
  },
  {
   "cell_type": "code",
   "execution_count": null,
   "metadata": {
    "collapsed": true
   },
   "outputs": [],
   "source": []
  }
 ],
 "metadata": {
  "kernelspec": {
   "display_name": "Python 3",
   "language": "python",
   "name": "python3"
  },
  "language_info": {
   "codemirror_mode": {
    "name": "ipython",
    "version": 3
   },
   "file_extension": ".py",
   "mimetype": "text/x-python",
   "name": "python",
   "nbconvert_exporter": "python",
   "pygments_lexer": "ipython3",
   "version": "3.4.0"
  }
 },
 "nbformat": 4,
 "nbformat_minor": 2
}
