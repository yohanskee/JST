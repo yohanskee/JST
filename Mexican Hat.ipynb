{
 "cells": [
  {
   "cell_type": "code",
   "execution_count": null,
   "metadata": {
    "collapsed": true
   },
   "outputs": [],
   "source": [
    "import numpy as np\n",
    "\n",
    "#1 = inner rad, 2 = outer rad\n",
    "r1_exa = 1\n",
    "r2_exa = 2\n",
    "c1_exa = 0.6\n",
    "c2_exa = -0.4\n",
    "\n",
    "x_exa = np.array([.0, .5, .8, 1.0, .8, .5, .0])\n",
    "x_max_exa = 2\n",
    "t_max_exa = 2\n",
    "\n",
    "\n",
    "r1_exe = 1\n",
    "r2_exe = 3\n",
    "c1_exe = 0.4\n",
    "c2_exe = -0.5\n",
    "\n",
    "x_exe = np.array([.5, 1.0, .3, .0, .4, .8, .2, .7, .9])\n",
    "x_max_exe = 1.5\n",
    "t_max_exe = 3\n",
    "\n",
    "\n",
    "r1 = r1_exe\n",
    "r2 = r2_exe\n",
    "c1 = c1_exe\n",
    "c2 = c2_exe\n",
    "x = np.copy(x_exe)\n",
    "x_max = x_max_exe\n",
    "t_max = t_max_exe\n",
    "x_end = len(x)\n",
    "\n",
    "\n",
    "for t in range(0, t_max):\n",
    "    x_old = np.copy(x)\n",
    "    for i in range(0, len(x_old)):\n",
    "        start = 0 if i - r2 < 0 else i - r2\n",
    "        end = x_end if i + r2 + 1 > x_end else i + r2 + 1\n",
    "        x[i] = 0\n",
    "        for j in range(start, end):\n",
    "            if(abs(j - i) <= r1):\n",
    "                x[i] += c1 * x_old[j]\n",
    "            else:\n",
    "                x[i] += c2 * x_old[j]\n",
    "        x[i] = min(x_max, max(0,x[i]))\n",
    "    print(x)"
   ]
  }
 ],
 "metadata": {
  "kernelspec": {
   "display_name": "Python 3",
   "language": "python",
   "name": "python3"
  },
  "language_info": {
   "codemirror_mode": {
    "name": "ipython",
    "version": 3
   },
   "file_extension": ".py",
   "mimetype": "text/x-python",
   "name": "python",
   "nbconvert_exporter": "python",
   "pygments_lexer": "ipython3",
   "version": "3.4.0"
  }
 },
 "nbformat": 4,
 "nbformat_minor": 2
}
