{
 "cells": [
  {
   "cell_type": "code",
   "execution_count": 9,
   "metadata": {
    "collapsed": false
   },
   "outputs": [
    {
     "name": "stdout",
     "output_type": "stream",
     "text": [
      "Initial weight:  [0.1, -0.3, 0]\n",
      "[0 0] :  0 :  0.0 :  [-0.29999999999999999, 0.0]   0.0 \n",
      "\n",
      "[0 1] :  0 :  -0.3 :  [-0.27000000000000002, 0.029999999999999999]   0.03 \n",
      "\n",
      "[1 0] :  1 :  0.13 :  [-0.27000000000000002, 0.11700000000000001]   0.117 \n",
      "\n",
      "[1 1] :  1 :  0.034 :  [-0.1734, 0.21360000000000001]   0.2136 \n",
      "\n",
      "[0 0] :  0 :  0.2136 :  [-0.1734, 0.19224000000000002]   0.19224 \n",
      "\n",
      "[0 1] :  0 :  0.01884 :  [-0.175284, 0.19035600000000003]   0.190356 \n",
      "\n",
      "[1 0] :  1 :  0.473956 :  [-0.175284, 0.24296040000000002]   0.2429604 \n",
      "\n",
      "[1 1] :  1 :  0.4038808 :  [-0.11567208, 0.30257232000000001]   0.30257232 \n",
      "\n",
      "\n",
      "Weight in  2  iteration\n",
      "W1 : 0.39581632 and W2 : -0.11567208\n"
     ]
    }
   ],
   "source": [
    "import numpy as np\n",
    "import math\n",
    "\n",
    "x = np.array([[0,0], [0,1], [1,0], [1,1]])\n",
    "r = np.array([0, 0, 1, 1])\n",
    "w = [0.1,-0.3,0]\n",
    "b = 0\n",
    "coAlpha = 0.1\n",
    "wrong = True\n",
    "\n",
    "print(\"Initial weight: \", w)\n",
    "\n",
    "counter = 0\n",
    "\n",
    "while(wrong):\n",
    "    counter += 1\n",
    "    wrong = True\n",
    "    diff = [0,0,0,0]\n",
    "    for i in range(len(x)):\n",
    "        y_in = w[2] + (w[0]*x[i][0] + w[1]*x[i][1])\n",
    "        update = coAlpha * (r[i] - y_in)\n",
    "        b = b + update\n",
    "        w[:2] += coAlpha * (r[i] - y_in) * x[i]\n",
    "        w[2] += update\n",
    "        print(x[i], \": \", r[i], \": \", y_in, \": \", w[1:], \" \", w[2], \"\\n\")\n",
    "    \n",
    "    if(counter == 2):\n",
    "        wrong = False\n",
    "        \n",
    "print(\"\\nWeight in \", counter, \" iteration\")\n",
    "print(\"W1 :\", w[0], \"and W2 :\", w[1])"
   ]
  },
  {
   "cell_type": "code",
   "execution_count": null,
   "metadata": {
    "collapsed": true
   },
   "outputs": [],
   "source": []
  }
 ],
 "metadata": {
  "kernelspec": {
   "display_name": "Python 3",
   "language": "python",
   "name": "python3"
  },
  "language_info": {
   "codemirror_mode": {
    "name": "ipython",
    "version": 3
   },
   "file_extension": ".py",
   "mimetype": "text/x-python",
   "name": "python",
   "nbconvert_exporter": "python",
   "pygments_lexer": "ipython3",
   "version": "3.4.0"
  }
 },
 "nbformat": 4,
 "nbformat_minor": 2
}
